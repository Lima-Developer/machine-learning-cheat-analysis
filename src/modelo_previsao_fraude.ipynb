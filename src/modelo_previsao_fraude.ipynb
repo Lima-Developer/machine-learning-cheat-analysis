{
 "cells": [
  {
   "cell_type": "markdown",
   "id": "fc5a35eb",
   "metadata": {},
   "source": [
    "# Machine Learning - Prevenção de Fraudes \n",
    "\n",
    "- Conjunto de dados com mais de 80.000 registros\n",
    "- Análise exploratória de variáveis categóricas e numéricas\n",
    "- Análise e tratamento de valores missing (nulos)\n",
    "- Análise estatística de variáveis\n",
    "- Tratamento de Dados\n",
    "- Engenharia de Atributos\n",
    "- Gráficos\n",
    "- Outliers\n",
    "- Normalização e Padronização de Dados\n",
    "- Balanceamento da variável ALVO (TARGET)\n",
    "\n",
    "## Objetivo\n",
    "- Criação, treino e teste dos modelos preditivos com 3 algoritmos diferentes:\n",
    "    - Random Forest\n",
    "    - Suport Vector Machine\n",
    "    - KNN\n",
    "- GridSearch para ajustes de hiperparametros automáticos e treino de mais de 1.000 modelos. Análise dos pesos das melhores variáveis"
   ]
  },
  {
   "cell_type": "markdown",
   "id": "ecfbe56f",
   "metadata": {},
   "source": [
    "# Impotação de Pacotes e Carregando o Dataset"
   ]
  },
  {
   "cell_type": "code",
   "execution_count": 1,
   "id": "9befdc50",
   "metadata": {},
   "outputs": [],
   "source": [
    "import warnings\n",
    "import pandas as pd\n",
    "import matplotlib.pyplot as plt\n",
    "import seaborn as sns\n",
    "import time\n",
    "import numpy as np\n",
    "\n",
    "from sklearn.ensemble import RandomForestClassifier\n",
    "from sklearn.svm import SVC\n",
    "from sklearn.neighbors import KNeighborsClassifier\n",
    "from sklearn.model_selection import GridSearchCV\n",
    "from sklearn.model_selection import train_test_split\n",
    "from sklearn.preprocessing import LabelEncoder\n",
    "from imblearn import under_sampling, over_sampling\n",
    "from imblearn.over_sampling import SMOTE\n",
    "from sklearn.preprocessing import MinMaxScaler\n",
    "from sklearn.preprocessing import StandardScaler\n",
    "from sklearn.metrics import r2_score\n",
    "\n",
    "warnings.filterwarnings(\"ignore\")\n",
    "pd.set_option('display.max_columns', None)\n",
    "pd.set_option('display.max_rows', None)\n",
    "pd.options.display.float_format = '{:.2f}'.format\n"
   ]
  },
  {
   "cell_type": "code",
   "execution_count": 2,
   "id": "4ea06b52",
   "metadata": {},
   "outputs": [],
   "source": [
    "df_original = pd.read_csv(\"./assets/dados_coletados10k.csv\")"
   ]
  },
  {
   "cell_type": "markdown",
   "id": "b866d589",
   "metadata": {},
   "source": [
    "# Análise Exploratória - Visão Geral\n",
    "\n",
    "Aqui o objetivo desta análise é ter uma visão geral do conjunto de dados, compreendendo seu tamanho, variáveis, tipo de dados e período dos dados coletados"
   ]
  },
  {
   "cell_type": "code",
   "execution_count": 3,
   "id": "0b1745eb",
   "metadata": {},
   "outputs": [
    {
     "data": {
      "text/plain": [
       "(9517, 24)"
      ]
     },
     "execution_count": 3,
     "metadata": {},
     "output_type": "execute_result"
    }
   ],
   "source": [
    "# Tamanho do conjunto de dados: xx.xxx linhas e xx variáveis\n",
    "df_original.shape"
   ]
  },
  {
   "cell_type": "code",
   "execution_count": 4,
   "id": "7b968b97",
   "metadata": {},
   "outputs": [
    {
     "data": {
      "text/html": [
       "<div>\n",
       "<style scoped>\n",
       "    .dataframe tbody tr th:only-of-type {\n",
       "        vertical-align: middle;\n",
       "    }\n",
       "\n",
       "    .dataframe tbody tr th {\n",
       "        vertical-align: top;\n",
       "    }\n",
       "\n",
       "    .dataframe thead th {\n",
       "        text-align: right;\n",
       "    }\n",
       "</style>\n",
       "<table border=\"1\" class=\"dataframe\">\n",
       "  <thead>\n",
       "    <tr style=\"text-align: right;\">\n",
       "      <th></th>\n",
       "      <th>Contrato</th>\n",
       "      <th>Idade</th>\n",
       "      <th>Sexo</th>\n",
       "      <th>Valor_Renda</th>\n",
       "      <th>UF_Cliente</th>\n",
       "      <th>Perc_Juros</th>\n",
       "      <th>Prazo_Emprestimo</th>\n",
       "      <th>Data_Contratacao</th>\n",
       "      <th>Prazo_Restante</th>\n",
       "      <th>VL_Emprestimo</th>\n",
       "      <th>VL_Emprestimo_ComJuros</th>\n",
       "      <th>QT_Total_Parcelas_Pagas</th>\n",
       "      <th>QT_Total_Parcelas_Pagas_EmDia</th>\n",
       "      <th>QT_Total_Parcelas_Pagas_EmAtraso</th>\n",
       "      <th>Qt_Renegociacao</th>\n",
       "      <th>Estado_Civil</th>\n",
       "      <th>Escolaridade</th>\n",
       "      <th>Possui_Patrimonio</th>\n",
       "      <th>VL_Patrimonio</th>\n",
       "      <th>QT_Parcelas_Atraso</th>\n",
       "      <th>QT_Dias_Atraso</th>\n",
       "      <th>Saldo_Devedor</th>\n",
       "      <th>Total_Pago</th>\n",
       "      <th>Possivel_Fraude</th>\n",
       "    </tr>\n",
       "  </thead>\n",
       "  <tbody>\n",
       "    <tr>\n",
       "      <th>0</th>\n",
       "      <td>322068935715</td>\n",
       "      <td>43</td>\n",
       "      <td>M</td>\n",
       "      <td>5800.00</td>\n",
       "      <td>SP</td>\n",
       "      <td>23.00</td>\n",
       "      <td>200</td>\n",
       "      <td>2022-08-01</td>\n",
       "      <td>193</td>\n",
       "      <td>80000.00</td>\n",
       "      <td>92000.00</td>\n",
       "      <td>15</td>\n",
       "      <td>9</td>\n",
       "      <td>1</td>\n",
       "      <td>0</td>\n",
       "      <td>DIVORCIADO</td>\n",
       "      <td>Nenhum</td>\n",
       "      <td>N</td>\n",
       "      <td>0.00</td>\n",
       "      <td>0</td>\n",
       "      <td>NaN</td>\n",
       "      <td>91759.97</td>\n",
       "      <td>7717.08</td>\n",
       "      <td>Nao</td>\n",
       "    </tr>\n",
       "    <tr>\n",
       "      <th>1</th>\n",
       "      <td>322068936715</td>\n",
       "      <td>22</td>\n",
       "      <td>M</td>\n",
       "      <td>2000.00</td>\n",
       "      <td>MG</td>\n",
       "      <td>20.00</td>\n",
       "      <td>100</td>\n",
       "      <td>2022-08-01</td>\n",
       "      <td>89</td>\n",
       "      <td>50000.00</td>\n",
       "      <td>57500.00</td>\n",
       "      <td>10</td>\n",
       "      <td>10</td>\n",
       "      <td>0</td>\n",
       "      <td>0</td>\n",
       "      <td>SOLTEIRO(A)</td>\n",
       "      <td>NaN</td>\n",
       "      <td>N</td>\n",
       "      <td>0.00</td>\n",
       "      <td>4</td>\n",
       "      <td>103.00</td>\n",
       "      <td>53981.18</td>\n",
       "      <td>6756.59</td>\n",
       "      <td>Nao</td>\n",
       "    </tr>\n",
       "    <tr>\n",
       "      <th>2</th>\n",
       "      <td>322068938715</td>\n",
       "      <td>35</td>\n",
       "      <td>M</td>\n",
       "      <td>4000.00</td>\n",
       "      <td>BA</td>\n",
       "      <td>18.00</td>\n",
       "      <td>100</td>\n",
       "      <td>2022-08-01</td>\n",
       "      <td>85</td>\n",
       "      <td>100000.00</td>\n",
       "      <td>115000.00</td>\n",
       "      <td>15</td>\n",
       "      <td>5</td>\n",
       "      <td>1</td>\n",
       "      <td>0</td>\n",
       "      <td>CASADO (A)</td>\n",
       "      <td>NaN</td>\n",
       "      <td>N</td>\n",
       "      <td>0.00</td>\n",
       "      <td>0</td>\n",
       "      <td>NaN</td>\n",
       "      <td>101150.02</td>\n",
       "      <td>17929.06</td>\n",
       "      <td>Nao</td>\n",
       "    </tr>\n",
       "    <tr>\n",
       "      <th>3</th>\n",
       "      <td>322068939715</td>\n",
       "      <td>20</td>\n",
       "      <td>M</td>\n",
       "      <td>1800.00</td>\n",
       "      <td>MG</td>\n",
       "      <td>20.00</td>\n",
       "      <td>100</td>\n",
       "      <td>2022-08-01</td>\n",
       "      <td>89</td>\n",
       "      <td>30000.00</td>\n",
       "      <td>34500.00</td>\n",
       "      <td>1</td>\n",
       "      <td>1</td>\n",
       "      <td>0</td>\n",
       "      <td>0</td>\n",
       "      <td>SOLTEIRO(A)</td>\n",
       "      <td>NaN</td>\n",
       "      <td>N</td>\n",
       "      <td>0.00</td>\n",
       "      <td>13</td>\n",
       "      <td>376.00</td>\n",
       "      <td>36208.10</td>\n",
       "      <td>369.10</td>\n",
       "      <td>Sim</td>\n",
       "    </tr>\n",
       "    <tr>\n",
       "      <th>4</th>\n",
       "      <td>322068940715</td>\n",
       "      <td>53</td>\n",
       "      <td>M</td>\n",
       "      <td>2800.00</td>\n",
       "      <td>MG</td>\n",
       "      <td>20.00</td>\n",
       "      <td>100</td>\n",
       "      <td>2022-08-01</td>\n",
       "      <td>87</td>\n",
       "      <td>60000.00</td>\n",
       "      <td>69000.00</td>\n",
       "      <td>16</td>\n",
       "      <td>16</td>\n",
       "      <td>0</td>\n",
       "      <td>0</td>\n",
       "      <td>CASADO (A)</td>\n",
       "      <td>NaN</td>\n",
       "      <td>N</td>\n",
       "      <td>0.00</td>\n",
       "      <td>0</td>\n",
       "      <td>NaN</td>\n",
       "      <td>60984.00</td>\n",
       "      <td>11845.24</td>\n",
       "      <td>Nao</td>\n",
       "    </tr>\n",
       "  </tbody>\n",
       "</table>\n",
       "</div>"
      ],
      "text/plain": [
       "       Contrato  Idade Sexo  Valor_Renda UF_Cliente  Perc_Juros  \\\n",
       "0  322068935715     43    M      5800.00         SP       23.00   \n",
       "1  322068936715     22    M      2000.00         MG       20.00   \n",
       "2  322068938715     35    M      4000.00         BA       18.00   \n",
       "3  322068939715     20    M      1800.00         MG       20.00   \n",
       "4  322068940715     53    M      2800.00         MG       20.00   \n",
       "\n",
       "   Prazo_Emprestimo Data_Contratacao  Prazo_Restante  VL_Emprestimo  \\\n",
       "0               200       2022-08-01             193       80000.00   \n",
       "1               100       2022-08-01              89       50000.00   \n",
       "2               100       2022-08-01              85      100000.00   \n",
       "3               100       2022-08-01              89       30000.00   \n",
       "4               100       2022-08-01              87       60000.00   \n",
       "\n",
       "   VL_Emprestimo_ComJuros  QT_Total_Parcelas_Pagas  \\\n",
       "0                92000.00                       15   \n",
       "1                57500.00                       10   \n",
       "2               115000.00                       15   \n",
       "3                34500.00                        1   \n",
       "4                69000.00                       16   \n",
       "\n",
       "   QT_Total_Parcelas_Pagas_EmDia  QT_Total_Parcelas_Pagas_EmAtraso  \\\n",
       "0                              9                                 1   \n",
       "1                             10                                 0   \n",
       "2                              5                                 1   \n",
       "3                              1                                 0   \n",
       "4                             16                                 0   \n",
       "\n",
       "   Qt_Renegociacao Estado_Civil Escolaridade Possui_Patrimonio  VL_Patrimonio  \\\n",
       "0                0   DIVORCIADO       Nenhum                 N           0.00   \n",
       "1                0  SOLTEIRO(A)          NaN                 N           0.00   \n",
       "2                0   CASADO (A)          NaN                 N           0.00   \n",
       "3                0  SOLTEIRO(A)          NaN                 N           0.00   \n",
       "4                0   CASADO (A)          NaN                 N           0.00   \n",
       "\n",
       "   QT_Parcelas_Atraso  QT_Dias_Atraso  Saldo_Devedor  Total_Pago  \\\n",
       "0                   0             NaN       91759.97     7717.08   \n",
       "1                   4          103.00       53981.18     6756.59   \n",
       "2                   0             NaN      101150.02    17929.06   \n",
       "3                  13          376.00       36208.10      369.10   \n",
       "4                   0             NaN       60984.00    11845.24   \n",
       "\n",
       "  Possivel_Fraude  \n",
       "0             Nao  \n",
       "1             Nao  \n",
       "2             Nao  \n",
       "3             Sim  \n",
       "4             Nao  "
      ]
     },
     "execution_count": 4,
     "metadata": {},
     "output_type": "execute_result"
    }
   ],
   "source": [
    "# Visão geral do conjunto de dados\n",
    "df_original.head()"
   ]
  },
  {
   "cell_type": "code",
   "execution_count": 5,
   "id": "4dd639b2",
   "metadata": {},
   "outputs": [
    {
     "name": "stdout",
     "output_type": "stream",
     "text": [
      "Período dos dados - De: 2022-07-04 Até: 2022-12-20\n"
     ]
    }
   ],
   "source": [
    "# Avaliar o período dos dados coletados\n",
    "\n",
    "inicio = pd.to_datetime(df_original['Data_Contratacao']).dt.date.min()\n",
    "fim = pd.to_datetime(df_original['Data_Contratacao']).dt.date.max()\n",
    "print(f'Período dos dados - De: {inicio} Até: {fim}')"
   ]
  },
  {
   "cell_type": "code",
   "execution_count": 6,
   "id": "9e29754c",
   "metadata": {},
   "outputs": [
    {
     "data": {
      "text/plain": [
       "Contrato                               0\n",
       "Idade                                  0\n",
       "Sexo                                   0\n",
       "Valor_Renda                            0\n",
       "UF_Cliente                             0\n",
       "Perc_Juros                             0\n",
       "Prazo_Emprestimo                       0\n",
       "Data_Contratacao                       0\n",
       "Prazo_Restante                         0\n",
       "VL_Emprestimo                          0\n",
       "VL_Emprestimo_ComJuros                 0\n",
       "QT_Total_Parcelas_Pagas                0\n",
       "QT_Total_Parcelas_Pagas_EmDia          0\n",
       "QT_Total_Parcelas_Pagas_EmAtraso       0\n",
       "Qt_Renegociacao                        0\n",
       "Estado_Civil                           0\n",
       "Escolaridade                        7105\n",
       "Possui_Patrimonio                      0\n",
       "VL_Patrimonio                          0\n",
       "QT_Parcelas_Atraso                     0\n",
       "QT_Dias_Atraso                      3594\n",
       "Saldo_Devedor                          0\n",
       "Total_Pago                             0\n",
       "Possivel_Fraude                        0\n",
       "dtype: int64"
      ]
     },
     "execution_count": 6,
     "metadata": {},
     "output_type": "execute_result"
    }
   ],
   "source": [
    "# Verificando se há valores nulos (dados missing)\n",
    "\n",
    "df_original.isnull().sum()"
   ]
  },
  {
   "cell_type": "code",
   "execution_count": 7,
   "id": "8f611aaa",
   "metadata": {},
   "outputs": [
    {
     "name": "stdout",
     "output_type": "stream",
     "text": [
      "<class 'pandas.core.frame.DataFrame'>\n",
      "RangeIndex: 9517 entries, 0 to 9516\n",
      "Data columns (total 24 columns):\n",
      " #   Column                            Non-Null Count  Dtype  \n",
      "---  ------                            --------------  -----  \n",
      " 0   Contrato                          9517 non-null   int64  \n",
      " 1   Idade                             9517 non-null   int64  \n",
      " 2   Sexo                              9517 non-null   object \n",
      " 3   Valor_Renda                       9517 non-null   float64\n",
      " 4   UF_Cliente                        9517 non-null   object \n",
      " 5   Perc_Juros                        9517 non-null   float64\n",
      " 6   Prazo_Emprestimo                  9517 non-null   int64  \n",
      " 7   Data_Contratacao                  9517 non-null   object \n",
      " 8   Prazo_Restante                    9517 non-null   int64  \n",
      " 9   VL_Emprestimo                     9517 non-null   float64\n",
      " 10  VL_Emprestimo_ComJuros            9517 non-null   float64\n",
      " 11  QT_Total_Parcelas_Pagas           9517 non-null   int64  \n",
      " 12  QT_Total_Parcelas_Pagas_EmDia     9517 non-null   int64  \n",
      " 13  QT_Total_Parcelas_Pagas_EmAtraso  9517 non-null   int64  \n",
      " 14  Qt_Renegociacao                   9517 non-null   int64  \n",
      " 15  Estado_Civil                      9517 non-null   object \n",
      " 16  Escolaridade                      2412 non-null   object \n",
      " 17  Possui_Patrimonio                 9517 non-null   object \n",
      " 18  VL_Patrimonio                     9517 non-null   float64\n",
      " 19  QT_Parcelas_Atraso                9517 non-null   int64  \n",
      " 20  QT_Dias_Atraso                    5923 non-null   float64\n",
      " 21  Saldo_Devedor                     9517 non-null   float64\n",
      " 22  Total_Pago                        9517 non-null   float64\n",
      " 23  Possivel_Fraude                   9517 non-null   object \n",
      "dtypes: float64(8), int64(9), object(7)\n",
      "memory usage: 1.7+ MB\n"
     ]
    }
   ],
   "source": [
    "# Informações básicas sobre tipos de variáveis\n",
    "df_original.info(verbose=True)"
   ]
  },
  {
   "cell_type": "code",
   "execution_count": 8,
   "id": "46991b97",
   "metadata": {},
   "outputs": [
    {
     "name": "stdout",
     "output_type": "stream",
     "text": [
      "Contrato : 9517\n",
      "Idade : 74\n",
      "Sexo : 2\n",
      "Valor_Renda : 855\n",
      "UF_Cliente : 27\n",
      "Perc_Juros : 21\n",
      "Prazo_Emprestimo : 36\n",
      "Data_Contratacao : 110\n",
      "Prazo_Restante : 79\n",
      "VL_Emprestimo : 61\n",
      "VL_Emprestimo_ComJuros : 61\n",
      "QT_Total_Parcelas_Pagas : 24\n",
      "QT_Total_Parcelas_Pagas_EmDia : 24\n",
      "QT_Total_Parcelas_Pagas_EmAtraso : 15\n",
      "Qt_Renegociacao : 10\n",
      "Estado_Civil : 6\n",
      "Escolaridade : 6\n",
      "Possui_Patrimonio : 2\n",
      "VL_Patrimonio : 3\n",
      "QT_Parcelas_Atraso : 16\n",
      "QT_Dias_Atraso : 16\n",
      "Saldo_Devedor : 7654\n",
      "Total_Pago : 7022\n",
      "Possivel_Fraude : 2\n"
     ]
    }
   ],
   "source": [
    "# Total de valores únicos de cada variável\n",
    "# A variável CONTRATO é um valor único para cada registro, pois refere-se ao Contrato do Cliente\n",
    "valores_unicos = []\n",
    "for i in df_original.columns[0:24].tolist():\n",
    "    print(i, ':', len(df_original[i].astype(str).value_counts()))\n",
    "    valores_unicos.append(len(df_original[i].astype(str).value_counts()))"
   ]
  },
  {
   "cell_type": "code",
   "execution_count": 9,
   "id": "6fb571cc",
   "metadata": {},
   "outputs": [
    {
     "data": {
      "text/html": [
       "<div>\n",
       "<style scoped>\n",
       "    .dataframe tbody tr th:only-of-type {\n",
       "        vertical-align: middle;\n",
       "    }\n",
       "\n",
       "    .dataframe tbody tr th {\n",
       "        vertical-align: top;\n",
       "    }\n",
       "\n",
       "    .dataframe thead th {\n",
       "        text-align: right;\n",
       "    }\n",
       "</style>\n",
       "<table border=\"1\" class=\"dataframe\">\n",
       "  <thead>\n",
       "    <tr style=\"text-align: right;\">\n",
       "      <th></th>\n",
       "      <th>Contrato</th>\n",
       "      <th>Idade</th>\n",
       "      <th>Valor_Renda</th>\n",
       "      <th>Perc_Juros</th>\n",
       "      <th>Prazo_Emprestimo</th>\n",
       "      <th>Prazo_Restante</th>\n",
       "      <th>VL_Emprestimo</th>\n",
       "      <th>VL_Emprestimo_ComJuros</th>\n",
       "      <th>QT_Total_Parcelas_Pagas</th>\n",
       "      <th>QT_Total_Parcelas_Pagas_EmDia</th>\n",
       "      <th>QT_Total_Parcelas_Pagas_EmAtraso</th>\n",
       "      <th>Qt_Renegociacao</th>\n",
       "      <th>VL_Patrimonio</th>\n",
       "      <th>QT_Parcelas_Atraso</th>\n",
       "      <th>QT_Dias_Atraso</th>\n",
       "      <th>Saldo_Devedor</th>\n",
       "      <th>Total_Pago</th>\n",
       "    </tr>\n",
       "  </thead>\n",
       "  <tbody>\n",
       "    <tr>\n",
       "      <th>count</th>\n",
       "      <td>9517.00</td>\n",
       "      <td>9517.00</td>\n",
       "      <td>9517.00</td>\n",
       "      <td>9517.00</td>\n",
       "      <td>9517.00</td>\n",
       "      <td>9517.00</td>\n",
       "      <td>9517.00</td>\n",
       "      <td>9517.00</td>\n",
       "      <td>9517.00</td>\n",
       "      <td>9517.00</td>\n",
       "      <td>9517.00</td>\n",
       "      <td>9517.00</td>\n",
       "      <td>9517.00</td>\n",
       "      <td>9517.00</td>\n",
       "      <td>5923.00</td>\n",
       "      <td>9517.00</td>\n",
       "      <td>9517.00</td>\n",
       "    </tr>\n",
       "    <tr>\n",
       "      <th>mean</th>\n",
       "      <td>322078158460.93</td>\n",
       "      <td>38.74</td>\n",
       "      <td>8325.40</td>\n",
       "      <td>19.65</td>\n",
       "      <td>107.43</td>\n",
       "      <td>104.58</td>\n",
       "      <td>81881.89</td>\n",
       "      <td>94164.17</td>\n",
       "      <td>7.89</td>\n",
       "      <td>4.11</td>\n",
       "      <td>1.60</td>\n",
       "      <td>1.24</td>\n",
       "      <td>10.93</td>\n",
       "      <td>5.35</td>\n",
       "      <td>249.79</td>\n",
       "      <td>90560.27</td>\n",
       "      <td>8166.21</td>\n",
       "    </tr>\n",
       "    <tr>\n",
       "      <th>std</th>\n",
       "      <td>5434160.86</td>\n",
       "      <td>12.67</td>\n",
       "      <td>121862.06</td>\n",
       "      <td>3.82</td>\n",
       "      <td>62.49</td>\n",
       "      <td>68.57</td>\n",
       "      <td>94138.06</td>\n",
       "      <td>108258.77</td>\n",
       "      <td>5.17</td>\n",
       "      <td>4.04</td>\n",
       "      <td>2.31</td>\n",
       "      <td>1.17</td>\n",
       "      <td>1025.26</td>\n",
       "      <td>5.32</td>\n",
       "      <td>123.22</td>\n",
       "      <td>111050.54</td>\n",
       "      <td>16697.76</td>\n",
       "    </tr>\n",
       "    <tr>\n",
       "      <th>min</th>\n",
       "      <td>322068935715.00</td>\n",
       "      <td>6.00</td>\n",
       "      <td>450.00</td>\n",
       "      <td>7.00</td>\n",
       "      <td>15.00</td>\n",
       "      <td>0.00</td>\n",
       "      <td>3500.00</td>\n",
       "      <td>4025.00</td>\n",
       "      <td>0.00</td>\n",
       "      <td>0.00</td>\n",
       "      <td>0.00</td>\n",
       "      <td>0.00</td>\n",
       "      <td>0.00</td>\n",
       "      <td>0.00</td>\n",
       "      <td>11.00</td>\n",
       "      <td>0.00</td>\n",
       "      <td>0.00</td>\n",
       "    </tr>\n",
       "    <tr>\n",
       "      <th>25%</th>\n",
       "      <td>322073331715.00</td>\n",
       "      <td>29.00</td>\n",
       "      <td>2300.00</td>\n",
       "      <td>18.00</td>\n",
       "      <td>60.00</td>\n",
       "      <td>51.00</td>\n",
       "      <td>20000.00</td>\n",
       "      <td>23000.00</td>\n",
       "      <td>2.00</td>\n",
       "      <td>1.00</td>\n",
       "      <td>0.00</td>\n",
       "      <td>0.00</td>\n",
       "      <td>0.00</td>\n",
       "      <td>0.00</td>\n",
       "      <td>162.00</td>\n",
       "      <td>18546.85</td>\n",
       "      <td>1202.04</td>\n",
       "    </tr>\n",
       "    <tr>\n",
       "      <th>50%</th>\n",
       "      <td>322078461715.00</td>\n",
       "      <td>37.00</td>\n",
       "      <td>3400.00</td>\n",
       "      <td>20.00</td>\n",
       "      <td>80.00</td>\n",
       "      <td>80.00</td>\n",
       "      <td>50000.00</td>\n",
       "      <td>57500.00</td>\n",
       "      <td>9.00</td>\n",
       "      <td>2.00</td>\n",
       "      <td>1.00</td>\n",
       "      <td>1.00</td>\n",
       "      <td>0.00</td>\n",
       "      <td>4.00</td>\n",
       "      <td>284.00</td>\n",
       "      <td>45375.30</td>\n",
       "      <td>3949.91</td>\n",
       "    </tr>\n",
       "    <tr>\n",
       "      <th>75%</th>\n",
       "      <td>322082622715.00</td>\n",
       "      <td>46.00</td>\n",
       "      <td>5000.00</td>\n",
       "      <td>22.00</td>\n",
       "      <td>190.00</td>\n",
       "      <td>185.00</td>\n",
       "      <td>100000.00</td>\n",
       "      <td>115000.00</td>\n",
       "      <td>13.00</td>\n",
       "      <td>6.00</td>\n",
       "      <td>2.00</td>\n",
       "      <td>2.00</td>\n",
       "      <td>0.00</td>\n",
       "      <td>11.00</td>\n",
       "      <td>344.00</td>\n",
       "      <td>119721.25</td>\n",
       "      <td>8302.01</td>\n",
       "    </tr>\n",
       "    <tr>\n",
       "      <th>max</th>\n",
       "      <td>322087622715.00</td>\n",
       "      <td>91.00</td>\n",
       "      <td>8000080.00</td>\n",
       "      <td>28.00</td>\n",
       "      <td>240.00</td>\n",
       "      <td>227.00</td>\n",
       "      <td>500000.00</td>\n",
       "      <td>575000.00</td>\n",
       "      <td>35.00</td>\n",
       "      <td>35.00</td>\n",
       "      <td>14.00</td>\n",
       "      <td>9.00</td>\n",
       "      <td>100000.00</td>\n",
       "      <td>15.00</td>\n",
       "      <td>435.00</td>\n",
       "      <td>625000.00</td>\n",
       "      <td>396385.00</td>\n",
       "    </tr>\n",
       "  </tbody>\n",
       "</table>\n",
       "</div>"
      ],
      "text/plain": [
       "             Contrato   Idade  Valor_Renda  Perc_Juros  Prazo_Emprestimo  \\\n",
       "count         9517.00 9517.00      9517.00     9517.00           9517.00   \n",
       "mean  322078158460.93   38.74      8325.40       19.65            107.43   \n",
       "std        5434160.86   12.67    121862.06        3.82             62.49   \n",
       "min   322068935715.00    6.00       450.00        7.00             15.00   \n",
       "25%   322073331715.00   29.00      2300.00       18.00             60.00   \n",
       "50%   322078461715.00   37.00      3400.00       20.00             80.00   \n",
       "75%   322082622715.00   46.00      5000.00       22.00            190.00   \n",
       "max   322087622715.00   91.00   8000080.00       28.00            240.00   \n",
       "\n",
       "       Prazo_Restante  VL_Emprestimo  VL_Emprestimo_ComJuros  \\\n",
       "count         9517.00        9517.00                 9517.00   \n",
       "mean           104.58       81881.89                94164.17   \n",
       "std             68.57       94138.06               108258.77   \n",
       "min              0.00        3500.00                 4025.00   \n",
       "25%             51.00       20000.00                23000.00   \n",
       "50%             80.00       50000.00                57500.00   \n",
       "75%            185.00      100000.00               115000.00   \n",
       "max            227.00      500000.00               575000.00   \n",
       "\n",
       "       QT_Total_Parcelas_Pagas  QT_Total_Parcelas_Pagas_EmDia  \\\n",
       "count                  9517.00                        9517.00   \n",
       "mean                      7.89                           4.11   \n",
       "std                       5.17                           4.04   \n",
       "min                       0.00                           0.00   \n",
       "25%                       2.00                           1.00   \n",
       "50%                       9.00                           2.00   \n",
       "75%                      13.00                           6.00   \n",
       "max                      35.00                          35.00   \n",
       "\n",
       "       QT_Total_Parcelas_Pagas_EmAtraso  Qt_Renegociacao  VL_Patrimonio  \\\n",
       "count                           9517.00          9517.00        9517.00   \n",
       "mean                               1.60             1.24          10.93   \n",
       "std                                2.31             1.17        1025.26   \n",
       "min                                0.00             0.00           0.00   \n",
       "25%                                0.00             0.00           0.00   \n",
       "50%                                1.00             1.00           0.00   \n",
       "75%                                2.00             2.00           0.00   \n",
       "max                               14.00             9.00      100000.00   \n",
       "\n",
       "       QT_Parcelas_Atraso  QT_Dias_Atraso  Saldo_Devedor  Total_Pago  \n",
       "count             9517.00         5923.00        9517.00     9517.00  \n",
       "mean                 5.35          249.79       90560.27     8166.21  \n",
       "std                  5.32          123.22      111050.54    16697.76  \n",
       "min                  0.00           11.00           0.00        0.00  \n",
       "25%                  0.00          162.00       18546.85     1202.04  \n",
       "50%                  4.00          284.00       45375.30     3949.91  \n",
       "75%                 11.00          344.00      119721.25     8302.01  \n",
       "max                 15.00          435.00      625000.00   396385.00  "
      ]
     },
     "execution_count": 9,
     "metadata": {},
     "output_type": "execute_result"
    }
   ],
   "source": [
    "# Visualizando algumas medidas estatísticas\n",
    "df_original.describe()"
   ]
  },
  {
   "cell_type": "code",
   "execution_count": 10,
   "id": "431f6ec7",
   "metadata": {},
   "outputs": [
    {
     "data": {
      "text/plain": [
       "QT_Dias_Atraso\n",
       "11.00     532\n",
       "41.00     255\n",
       "71.00     190\n",
       "103.00    205\n",
       "133.00    176\n",
       "162.00    206\n",
       "194.00    241\n",
       "225.00    352\n",
       "251.00    471\n",
       "284.00    546\n",
       "315.00    718\n",
       "344.00    930\n",
       "376.00    686\n",
       "406.00    413\n",
       "435.00      2\n",
       "dtype: int64"
      ]
     },
     "execution_count": 10,
     "metadata": {},
     "output_type": "execute_result"
    }
   ],
   "source": [
    "# Quantidade de dias em atraso\n",
    "\n",
    "df_original.groupby(['QT_Dias_Atraso']).size()"
   ]
  },
  {
   "cell_type": "code",
   "execution_count": 11,
   "id": "8e38d0f1",
   "metadata": {},
   "outputs": [
    {
     "data": {
      "text/plain": [
       "Prazo_Emprestimo\n",
       "15        4\n",
       "18        4\n",
       "19        5\n",
       "20      146\n",
       "25      183\n",
       "30      272\n",
       "34        1\n",
       "35       81\n",
       "36      306\n",
       "40      136\n",
       "42       20\n",
       "45      205\n",
       "48      333\n",
       "50      184\n",
       "55      185\n",
       "60      890\n",
       "65       36\n",
       "70      134\n",
       "75      455\n",
       "80     1421\n",
       "88        2\n",
       "90      354\n",
       "95      135\n",
       "100     928\n",
       "120     102\n",
       "130      21\n",
       "140     167\n",
       "150      48\n",
       "160      33\n",
       "165       3\n",
       "170      78\n",
       "180     129\n",
       "190     674\n",
       "200    1661\n",
       "235      71\n",
       "240     110\n",
       "dtype: int64"
      ]
     },
     "execution_count": 11,
     "metadata": {},
     "output_type": "execute_result"
    }
   ],
   "source": [
    "# Prazo emprestimo\n",
    "df_original.groupby(['Prazo_Emprestimo']).size()"
   ]
  },
  {
   "cell_type": "code",
   "execution_count": 12,
   "id": "e1defcef",
   "metadata": {},
   "outputs": [
    {
     "data": {
      "text/plain": [
       "Prazo_Restante\n",
       "0        2\n",
       "3        3\n",
       "4        2\n",
       "6       22\n",
       "7       29\n",
       "8       31\n",
       "9        8\n",
       "10      12\n",
       "11      32\n",
       "12       6\n",
       "13      94\n",
       "15      10\n",
       "16      42\n",
       "17      85\n",
       "18      27\n",
       "19     143\n",
       "20      23\n",
       "23     164\n",
       "25      84\n",
       "27      38\n",
       "28      52\n",
       "29      71\n",
       "30      51\n",
       "31      71\n",
       "33      40\n",
       "34      67\n",
       "35     168\n",
       "36     204\n",
       "37      31\n",
       "38      55\n",
       "39      22\n",
       "40      73\n",
       "41      37\n",
       "42      14\n",
       "43      27\n",
       "44     126\n",
       "45      19\n",
       "46       2\n",
       "49     145\n",
       "50      19\n",
       "51     256\n",
       "53     150\n",
       "59       7\n",
       "60     178\n",
       "64     421\n",
       "66      43\n",
       "68     330\n",
       "71     270\n",
       "74     304\n",
       "75     193\n",
       "76      99\n",
       "77      67\n",
       "78      63\n",
       "79      86\n",
       "80     188\n",
       "82     159\n",
       "84      48\n",
       "85      72\n",
       "87     129\n",
       "89     420\n",
       "91     705\n",
       "100     15\n",
       "107     43\n",
       "120     24\n",
       "125     68\n",
       "129     44\n",
       "133     25\n",
       "143    197\n",
       "149     16\n",
       "156     39\n",
       "159     58\n",
       "175    119\n",
       "179     27\n",
       "185    332\n",
       "193    764\n",
       "198    337\n",
       "221     17\n",
       "225    534\n",
       "227    519\n",
       "dtype: int64"
      ]
     },
     "execution_count": 12,
     "metadata": {},
     "output_type": "execute_result"
    }
   ],
   "source": [
    "# Prazo Restante\n",
    "df_original.groupby(['Prazo_Restante']).size()"
   ]
  },
  {
   "cell_type": "code",
   "execution_count": 13,
   "id": "aa139ded",
   "metadata": {},
   "outputs": [
    {
     "data": {
      "text/plain": [
       "Sexo\n",
       "F    3811\n",
       "M    5706\n",
       "dtype: int64"
      ]
     },
     "execution_count": 13,
     "metadata": {},
     "output_type": "execute_result"
    }
   ],
   "source": [
    "# Sexo\n",
    "df_original.groupby(['Sexo']).size()"
   ]
  },
  {
   "cell_type": "code",
   "execution_count": 14,
   "id": "79666307",
   "metadata": {},
   "outputs": [
    {
     "data": {
      "text/plain": [
       "UF_Cliente\n",
       "AC       1\n",
       "AL      79\n",
       "AM       2\n",
       "AP       5\n",
       "BA     883\n",
       "CE     248\n",
       "DF      46\n",
       "ES      49\n",
       "GO     485\n",
       "MA     403\n",
       "MG    1637\n",
       "MS     238\n",
       "MT     137\n",
       "PA     420\n",
       "PB     154\n",
       "PE     263\n",
       "PI     104\n",
       "PR     693\n",
       "RJ     335\n",
       "RN      78\n",
       "RO      16\n",
       "RR       4\n",
       "RS     407\n",
       "SC     298\n",
       "SE      45\n",
       "SP    2468\n",
       "TO      19\n",
       "dtype: int64"
      ]
     },
     "execution_count": 14,
     "metadata": {},
     "output_type": "execute_result"
    }
   ],
   "source": [
    "# UF dos Clientes\n",
    "df_original.groupby(['UF_Cliente']).size()"
   ]
  },
  {
   "cell_type": "code",
   "execution_count": 15,
   "id": "d219a6c7",
   "metadata": {},
   "outputs": [
    {
     "data": {
      "text/plain": [
       "Idade\n",
       "6       1\n",
       "17      4\n",
       "18      6\n",
       "19    109\n",
       "20    207\n",
       "21    193\n",
       "22    173\n",
       "23    234\n",
       "24    251\n",
       "25    253\n",
       "26    296\n",
       "27    277\n",
       "28    280\n",
       "29    298\n",
       "30    284\n",
       "31    281\n",
       "32    288\n",
       "33    273\n",
       "34    310\n",
       "35    336\n",
       "36    280\n",
       "37    262\n",
       "38    271\n",
       "39    270\n",
       "40    264\n",
       "41    270\n",
       "42    243\n",
       "43    233\n",
       "44    285\n",
       "45    229\n",
       "46    208\n",
       "47    177\n",
       "48    167\n",
       "49    172\n",
       "50    148\n",
       "51    143\n",
       "52    118\n",
       "53    122\n",
       "54    124\n",
       "55    124\n",
       "56     96\n",
       "57     76\n",
       "58     90\n",
       "59     79\n",
       "60     99\n",
       "61     71\n",
       "62     56\n",
       "63     49\n",
       "64     54\n",
       "65     37\n",
       "66     65\n",
       "67     39\n",
       "68     48\n",
       "69     33\n",
       "70     27\n",
       "71     16\n",
       "72     19\n",
       "73     16\n",
       "74     16\n",
       "75      7\n",
       "76     12\n",
       "77      5\n",
       "78      5\n",
       "79      3\n",
       "80      9\n",
       "81      5\n",
       "82      3\n",
       "83      4\n",
       "84      2\n",
       "85      5\n",
       "87      2\n",
       "88      2\n",
       "90      2\n",
       "91      1\n",
       "dtype: int64"
      ]
     },
     "execution_count": 15,
     "metadata": {},
     "output_type": "execute_result"
    }
   ],
   "source": [
    "# Idade dos clientes\n",
    "df_original.groupby(['Idade']).size()"
   ]
  },
  {
   "cell_type": "code",
   "execution_count": null,
   "id": "b247def9",
   "metadata": {},
   "outputs": [],
   "source": [
    "# Estado civil dos clientes\n",
    "df_original.groupby(['Estado_Civil']).size()"
   ]
  },
  {
   "cell_type": "code",
   "execution_count": null,
   "id": "6d3e1460",
   "metadata": {},
   "outputs": [],
   "source": [
    "# Escolaridade dos clientes\n",
    "df_original.groupby(['Escolaridade']).size()"
   ]
  },
  {
   "cell_type": "code",
   "execution_count": 16,
   "id": "3c76c9c1",
   "metadata": {},
   "outputs": [
    {
     "data": {
      "text/plain": [
       "Possui_Patrimonio\n",
       "N    9452\n",
       "S      65\n",
       "dtype: int64"
      ]
     },
     "execution_count": 16,
     "metadata": {},
     "output_type": "execute_result"
    }
   ],
   "source": [
    "# Patrimonio dos clientes\n",
    "df_original.groupby(['Possui_Patrimonio']).size()"
   ]
  },
  {
   "cell_type": "code",
   "execution_count": 17,
   "id": "ea23ed66",
   "metadata": {},
   "outputs": [
    {
     "data": {
      "text/plain": [
       "VL_Patrimonio\n",
       "0.00         9512\n",
       "1000.00         4\n",
       "100000.00       1\n",
       "dtype: int64"
      ]
     },
     "execution_count": 17,
     "metadata": {},
     "output_type": "execute_result"
    }
   ],
   "source": [
    "# Valor do patrimonio dos clientes\n",
    "df_original.groupby(['VL_Patrimonio']).size()"
   ]
  },
  {
   "cell_type": "code",
   "execution_count": 18,
   "id": "9c0761ed",
   "metadata": {},
   "outputs": [
    {
     "data": {
      "text/plain": [
       "Possivel_Fraude\n",
       "Nao    5035\n",
       "Sim    4482\n",
       "dtype: int64"
      ]
     },
     "execution_count": 18,
     "metadata": {},
     "output_type": "execute_result"
    }
   ],
   "source": [
    "# Variável TARGET - ALVO\n",
    "df_original.groupby(['Possivel_Fraude']).size()"
   ]
  },
  {
   "cell_type": "markdown",
   "id": "9ac9211a",
   "metadata": {},
   "source": [
    "### Tratando os dados que identificamos que precisam ser ajustados em nossa análise acima"
   ]
  },
  {
   "cell_type": "code",
   "execution_count": 20,
   "id": "64159100",
   "metadata": {},
   "outputs": [
    {
     "data": {
      "text/plain": [
       "Estado_Civil\n",
       "CASADO (A)     3157\n",
       "DIVORCIADO      481\n",
       "OUTRO           652\n",
       "SOLTEIRO(A)    5087\n",
       "VIÚVO(A)        140\n",
       "dtype: int64"
      ]
     },
     "execution_count": 20,
     "metadata": {},
     "output_type": "execute_result"
    }
   ],
   "source": [
    "# Ajustando ESTADO_CIVIL\n",
    "df_original['Estado_Civil'] = df_original['Estado_Civil'].replace(['NENHUM'], 'OUTRO')\n",
    "df_original['Estado_Civil'] = df_original['Estado_Civil'].replace(['UNIÃO ESTAVEL'], 'CASADO (A)')\n",
    "\n",
    "df_original.groupby(['Estado_Civil']).size()"
   ]
  },
  {
   "cell_type": "code",
   "execution_count": 21,
   "id": "97e70072",
   "metadata": {},
   "outputs": [
    {
     "data": {
      "text/plain": [
       "Faixa_Etaria\n",
       "Até 21 Anos           327\n",
       "De 22 até 30 Anos    2255\n",
       "De 31 até 40 Anos    2855\n",
       "De 41 até 50 Anos    2248\n",
       "De 51 até 60 Anos    1120\n",
       "Acima de 60 Anos      712\n",
       "dtype: int64"
      ]
     },
     "execution_count": 21,
     "metadata": {},
     "output_type": "execute_result"
    }
   ],
   "source": [
    "# Criando faixa etaria para utilizarmos no modelo preditivo\n",
    "bins = [0, 21, 30, 40, 50, 60, 100]\n",
    "labels = ['Até 21 Anos', 'De 22 até 30 Anos', 'De 31 até 40 Anos', 'De 41 até 50 Anos', 'De 51 até 60 Anos', 'Acima de 60 Anos']\n",
    "df_original['Faixa_Etaria'] = pd.cut(df_original['Idade'], bins=bins, labels=labels, right=False)\n",
    "df_original.groupby(['Faixa_Etaria']).size()"
   ]
  },
  {
   "cell_type": "code",
   "execution_count": 23,
   "id": "6a01784c",
   "metadata": {},
   "outputs": [
    {
     "data": {
      "text/plain": [
       "Faixa_Salarial\n",
       "Até 1k              11\n",
       "De 1k até 2k      1286\n",
       "De 2k até 3k      2321\n",
       "De 3k até 5k      2814\n",
       "De 5k até 10k     2053\n",
       "De 10k até 20k     697\n",
       "De 20k até 30k     175\n",
       "Acima de 50k       160\n",
       "dtype: int64"
      ]
     },
     "execution_count": 23,
     "metadata": {},
     "output_type": "execute_result"
    }
   ],
   "source": [
    "# Criando faixa etária para utilizarmos no modelo preditivo\n",
    "bins = [-100, 1000, 2000, 3000, 5000, 10000, 20000, 30000, 9000000000]\n",
    "labels = ['Até 1k', 'De 1k até 2k', 'De 2k até 3k', 'De 3k até 5k', 'De 5k até 10k', 'De 10k até 20k', 'De 20k até 30k', 'Acima de 50k']\n",
    "df_original['Faixa_Salarial'] = pd.cut(df_original['Valor_Renda'], bins=bins, labels=labels, right=False)\n",
    "df_original.groupby(['Faixa_Salarial']).size()"
   ]
  },
  {
   "cell_type": "code",
   "execution_count": 24,
   "id": "a010133e",
   "metadata": {},
   "outputs": [
    {
     "data": {
      "text/plain": [
       "np.float64(284.0)"
      ]
     },
     "execution_count": 24,
     "metadata": {},
     "output_type": "execute_result"
    }
   ],
   "source": [
    "# Precisamos tratar os valores nulos dessa variável antes de fazermos nossa engenharia de atributos\n",
    "# Vamos preencher os valos nulos usando a mediana dos dados\n",
    "df_original['QT_Dias_Atraso'].median()"
   ]
  },
  {
   "cell_type": "code",
   "execution_count": 25,
   "id": "2d153c20",
   "metadata": {},
   "outputs": [],
   "source": [
    "# Preenchendo os valores nulos com a mediana\n",
    "df_original['QT_Dias_Atraso'] = df_original['QT_Dias_Atraso'].fillna(df_original['QT_Dias_Atraso'].median())"
   ]
  },
  {
   "cell_type": "code",
   "execution_count": 26,
   "id": "8b7038d6",
   "metadata": {},
   "outputs": [
    {
     "data": {
      "text/plain": [
       "Faixa_Dias_Atraso\n",
       "Até 30 Dias             532\n",
       "De 31 até 60 Dias       255\n",
       "De 61 até 90 Dias       190\n",
       "De 91 até 180 Dias      587\n",
       "De 181 até 240 Dias     593\n",
       "De 241 até 360 Dias    6259\n",
       "Acima de 360 Dias      1101\n",
       "dtype: int64"
      ]
     },
     "execution_count": 26,
     "metadata": {},
     "output_type": "execute_result"
    }
   ],
   "source": [
    "# Criando faixa de dias em atraso da cota para utilizarmos no modelo preditivo\n",
    "bins = [-100, 30, 60, 90, 180, 240, 360, 500]\n",
    "labels = ['Até 30 Dias', 'De 31 até 60 Dias', 'De 61 até 90 Dias', 'De 91 até 180 Dias', 'De 181 até 240 Dias', 'De 241 até 360 Dias', 'Acima de 360 Dias']\n",
    "df_original['Faixa_Dias_Atraso'] = pd.cut(df_original['QT_Dias_Atraso'], bins=bins, labels=labels, right=False)\n",
    "df_original.groupby(['Faixa_Dias_Atraso']).size()"
   ]
  }
 ],
 "metadata": {
  "kernelspec": {
   "display_name": "Python (my_venv)",
   "language": "python",
   "name": "my_venv"
  },
  "language_info": {
   "codemirror_mode": {
    "name": "ipython",
    "version": 3
   },
   "file_extension": ".py",
   "mimetype": "text/x-python",
   "name": "python",
   "nbconvert_exporter": "python",
   "pygments_lexer": "ipython3",
   "version": "3.13.7"
  }
 },
 "nbformat": 4,
 "nbformat_minor": 5
}
